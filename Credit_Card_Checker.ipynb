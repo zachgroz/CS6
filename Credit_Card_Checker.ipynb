{
 "cells": [
  {
   "cell_type": "code",
   "execution_count": 6,
   "metadata": {},
   "outputs": [],
   "source": [
    "def getSize(number):\n",
    "    return len(str(number))"
   ]
  },
  {
   "cell_type": "code",
   "execution_count": 7,
   "metadata": {},
   "outputs": [],
   "source": [
    "def getPrefix(number, k):\n",
    "    return int(str(number)[0:k])"
   ]
  },
  {
   "cell_type": "code",
   "execution_count": 8,
   "metadata": {},
   "outputs": [],
   "source": [
    "def prefixMatched(number, d):\n",
    "    if(int(str(number)[0:len(str(d))]) == d):\n",
    "        return True\n",
    "    return False"
   ]
  },
  {
   "cell_type": "code",
   "execution_count": 14,
   "metadata": {},
   "outputs": [],
   "source": [
    "def getDigit(number):\n",
    "    return str(int(number) % 10) + (int(number) / 10))"
   ]
  },
  {
   "cell_type": "code",
   "execution_count": 15,
   "metadata": {},
   "outputs": [],
   "source": [
    "def sumOfOddPlace(number):\n",
    "    i = 0\n",
    "    sum = 0\n",
    "    while(i < getSize(number)):\n",
    "        sum += int(str(number)[i])\n",
    "        i+=2\n",
    "    return sum"
   ]
  },
  {
   "cell_type": "code",
   "execution_count": 16,
   "metadata": {},
   "outputs": [],
   "source": [
    "def sumOfDoubleEvenPlace(number):\n",
    "    i = 1\n",
    "    sumDouble = 0\n",
    "    while(i < getSize(number)):\n",
    "        sumDouble += 2 * int(str(number)[i])\n",
    "        i+=2\n",
    "    return sumDouble"
   ]
  },
  {
   "cell_type": "code",
   "execution_count": 17,
   "metadata": {},
   "outputs": [],
   "source": [
    "def isValid(number):\n",
    "    if(getSize(number) < 13 or getSize(number) > 16):\n",
    "        return str(number) + \" is invalid.\"\n",
    "    if(prefixMatched(number, getPrefix(number, 1))):    \n",
    "        if((sumOfDoubleEvenPlace(number) + sumOfOddPlace(number)) % 10 == 0):\n",
    "            return str(number) + \" is valid.\""
   ]
  },
  {
   "cell_type": "code",
   "execution_count": 18,
   "metadata": {},
   "outputs": [
    {
     "data": {
      "text/plain": [
       "'4388576018410707 is valid.'"
      ]
     },
     "execution_count": 18,
     "metadata": {},
     "output_type": "execute_result"
    }
   ],
   "source": [
    "isValid(4388576018410707)"
   ]
  },
  {
   "cell_type": "code",
   "execution_count": null,
   "metadata": {},
   "outputs": [],
   "source": []
  }
 ],
 "metadata": {
  "kernelspec": {
   "display_name": "Python 3",
   "language": "python",
   "name": "python3"
  },
  "language_info": {
   "codemirror_mode": {
    "name": "ipython",
    "version": 3
   },
   "file_extension": ".py",
   "mimetype": "text/x-python",
   "name": "python",
   "nbconvert_exporter": "python",
   "pygments_lexer": "ipython3",
   "version": "3.6.5"
  }
 },
 "nbformat": 4,
 "nbformat_minor": 2
}
